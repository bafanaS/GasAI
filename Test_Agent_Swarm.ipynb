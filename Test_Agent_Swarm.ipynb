{
  "nbformat": 4,
  "nbformat_minor": 0,
  "metadata": {
    "colab": {
      "provenance": [],
      "authorship_tag": "ABX9TyPq4UG8/r9KhrBaukaHI2s8",
      "include_colab_link": true
    },
    "kernelspec": {
      "name": "python3",
      "display_name": "Python 3"
    },
    "language_info": {
      "name": "python"
    }
  },
  "cells": [
    {
      "cell_type": "markdown",
      "metadata": {
        "id": "view-in-github",
        "colab_type": "text"
      },
      "source": [
        "<a href=\"https://colab.research.google.com/github/bafanaS/GasAI/blob/main/Test_Agent_Swarm.ipynb\" target=\"_parent\"><img src=\"https://colab.research.google.com/assets/colab-badge.svg\" alt=\"Open In Colab\"/></a>"
      ]
    },
    {
      "cell_type": "code",
      "execution_count": null,
      "metadata": {
        "id": "wLBZG8Zl_F78"
      },
      "outputs": [],
      "source": [
        "!pip install git+https://github.com/bafanaS/GasAI.git"
      ]
    },
    {
      "cell_type": "code",
      "source": [
        "import os\n",
        "os.environ['OPENAI_API_KEY'] = #OPEN AI API KEY HERE"
      ],
      "metadata": {
        "id": "NP_-qwY2F6wJ"
      },
      "execution_count": null,
      "outputs": []
    },
    {
      "cell_type": "code",
      "source": [
        "from GasAI import Schema, User, Agent, Assistant, SearchWebDDGS, Developer, CreateFile, OpenFile, CreateDir, GetFilesInDirectory, ExecuteCommand, Program, Chat, SplitJoinPair\n",
        "\n",
        "comm:Schema = Schema()\n",
        "\n",
        "\n",
        "user = User(comm=comm)\n",
        "\n",
        "research_agent:Agent= Assistant(name='Research Agent',\n",
        "                        instructions=\"\"\"You are the Research Agent, with the following purpose. Call the research methods and return information\"\"\",\n",
        "                        description=\"Responsible for searching the web and pulling information\",\n",
        "                        functions=[SearchWebDDGS])\n",
        "\n",
        "assistant:Assistant= Assistant(name='Assistant Agent',\n",
        "                        instructions=\"\"\"You are the Assistant Agent, with the following purpose. Communicate the plan and goal. If any Agent has any questions, please respond. Contextualize any plan provided to you. Keep this short and sweet. You can check emails\"\"\",\n",
        "                        description=\"responsible for communicating the project vision. After the goal is completed, this bot will end the chats. This agent can check emails.\",\n",
        "                        functions=[])\n",
        "\n",
        "file_agent:Agent= Developer(name='File Agent',\n",
        "                        instructions=\"\"\"You are the File Agent that can read and write files. You work exclusively in the workspace directory, no where else. YOU ARE NOT ALLOWED TO CREATE FILES ANYWHERE BESIDES THE WORKSPACE DIRECTORY.\n",
        "                        If the user asks to write a report, follow their guidelines exactly. Do not deviate from the command, and for these reports on individuals, follow the following guidelines:\n",
        "\n",
        "                        what is their authority, some important quotes or things they have done, and more. Prep the notes so that they are usable for a potential meeting\n",
        "\n",
        "                        Write all markdown to the /Markdown Files directory. If you cannot find it, call get filesindirectory and navigates\n",
        "                        \"\"\",\n",
        "                        description=\"responsbile for reading and writing files\",\n",
        "                        functions=[CreateFile, OpenFile, CreateDir, GetFilesInDirectory])\n",
        "\n",
        "\n",
        "dev_agent:Agent= Developer(name='Developer Agent',\n",
        "                        instructions=\"\"\"You are the Developer Agent, with the following purpose. You are responsible for running and executing Programs.\n",
        "                        Before you do anything, GET THE CODE THAT THE USER PROVIDED AND OPEN THAT CODE. ALL FUTURE CODE SHOULD BE WRITTEN BASED ON THE USER CODE\n",
        "                        YOU CAN ONLY WRITE CODE AND CALL FUNCTIONS. Base all your information from the code examples.\n",
        "\n",
        "                        - Write clean and efficient  code.\n",
        "                        - Structure your code logically\n",
        "                        - Ensure correct imports according to program structure.\n",
        "                        - Execute your code to test for functionality and errors, before reporting back to the user.\n",
        "                        - Anticipate and handle potential runtime errors.\n",
        "                        - Provide clear error messages for easier troubleshooting.\n",
        "                        - Debug any issues before reporting the results back to the user.\n",
        "\n",
        "                        Use function calling whenever necessary to execute your actions.\n",
        "\n",
        "                        For all function calls and code, operate in the workspace directory. You are not allowed to create code in any place BESIDES the workspace.\n",
        "\n",
        "\n",
        "\"\"\",\n",
        "                        description=\"responsible for running and executing Python Programs.\",\n",
        "                        functions=[ExecuteCommand, CreateFile, Program,  GetFilesInDirectory, OpenFile, CreateDir])\n",
        "\n",
        "test_agent:Agent= Developer(name='Test Agent',\n",
        "                        instructions=\"\"\"You are the Test Agent, with the following purpose. You are responsible for running and executing to TEST Previously written code.\n",
        "                        Before you do anything, GET THE CODE THAT THE USER PROVIDED AND OPEN THAT CODE. ALL FUTURE CODE SHOULD BE WRITTEN BASED ON THE USER CODE\n",
        "                        YOU CAN ONLY WRITE CODE AND CALL FUNCTIONS. Base all your information from the code examples.\n",
        "\n",
        "                        - Write clean and efficient code.\n",
        "                        - Structure your code logically\n",
        "                        - Ensure correct imports according to program structure.\n",
        "                        - Execute your code to test for functionality and errors, before reporting back to the user.\n",
        "                        - Anticipate and handle potential runtime errors.\n",
        "                        - Provide clear error messages for easier troubleshooting.\n",
        "                        - Debug any issues before reporting the results back to the user.\n",
        "\n",
        "                        Use function calling whenever necessary to execute your actions.\n",
        "\n",
        "                        For all function calls and code, operate in the workspace directory. You are not allowed to create code in any place BESIDES the workspace.\n",
        "\n",
        "\n",
        "\"\"\",\n",
        "                        description=\"responsible for testing and writing tests for Python Programs.\",\n",
        "                        functions=[ExecuteCommand, CreateFile, Program,  GetFilesInDirectory, OpenFile, CreateDir])\n",
        "\n",
        "\n",
        "dev_assistant:Assistant= Assistant(name='Assistant Agent',\n",
        "                        instructions=\"\"\"You are the Assistant Agent, with the following purpose. Communicate the plan and goal. If any Agent has any questions, please respond. Contextualize any plan provided to you with programming information. Keep this short and sweet.\"\"\",\n",
        "                        description=\"responsible for communicating the project vision. After the goal is completed, this bot will end the chats\",\n",
        "                        functions=[])\n",
        "\n",
        "\n",
        "file_node = Assistant(name='File Agent',\n",
        "                        instructions=f\"\"\"You are the File Agent\n",
        "                        You take in information and links from the research agent, and write a markdown report that summarizes all that was learned. Some questions to think about are:\n",
        "                        If the user asks to write a report, follow their guidelines exactly. Do not deviate from the command, and for these reports on individuals, follow the following guidelines:\n",
        "                        what is their authority, some important quotes or things they have done, and more. Prep the notes so that they are usable for a potential meeting\n",
        "\n",
        "                        You can read and write files. Write files to the \"Markdown Files files directory. If you cannot find it, then call getfilesindirectory to find it\"\"\",\n",
        "\n",
        "                        description=\"responsbile for reading and writing files, most specifically, writing the report files\",\n",
        "                        functions=[CreateFile, GetFilesInDirectory])\n",
        "\n",
        "s, j = SplitJoinPair()\n",
        "\n",
        "dev_team = Chat(actors=[dev_agent, dev_assistant], name=\"Dev Team\", description=\"To build and test code that works for the users needs. Make sure that all the code that is being created follows with the code in the files that the user provided\")\n",
        "\n",
        "prog_team = Chat(actors=[assistant, research_agent, file_agent], name=\"Research Team\", description=\"Research and answer any of the users queries. These should be comprehensive. Provide links and sources for your work\")\n",
        "\n",
        "# You can create any configuration of the agents and chats. I have created a basic research configuration.\n",
        "\n",
        "user > s\n",
        "s > research_agent > j\n",
        "j > file_agent\n",
        "\n",
        "\n",
        "await comm.system_pass(starting_node=user, message='')"
      ],
      "metadata": {
        "id": "ldtuYNjV_G9Q"
      },
      "execution_count": null,
      "outputs": []
    },
    {
      "cell_type": "code",
      "source": [],
      "metadata": {
        "id": "utidPLidDghJ"
      },
      "execution_count": null,
      "outputs": []
    }
  ]
}